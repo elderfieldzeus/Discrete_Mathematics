{
 "cells": [
  {
   "cell_type": "markdown",
   "id": "f7a49302",
   "metadata": {},
   "source": [
    "# Assignments --- Zeus Elderfield\n",
    "### 1. Proving Identitites"
   ]
  },
  {
   "cell_type": "markdown",
   "id": "cf46ce8b",
   "metadata": {},
   "source": [
    "Given: A and B are sets, $ \\exists $ x such that (x $ \\in $ A $ \\land $ x $ \\in $ B)\n",
    "\n",
    "Show that:\n"
   ]
  },
  {
   "cell_type": "markdown",
   "id": "01aac715",
   "metadata": {},
   "source": [
    "##### $\\bullet$ A\\\\B = A $\\cap$ $B^{c}$ "
   ]
  },
  {
   "cell_type": "markdown",
   "id": "257d4358",
   "metadata": {},
   "source": [
    "Direction 1: A\\\\B $\\subseteq$ A $\\cap$ $B^{c}$\n",
    "\n",
    "Let us say that x is an arbitrary element found in A\\\\B. With this, we can say that x is not an element that can be found in B because A\\\\B = A-B. Because of this, the first condition for A $\\cap$ $B^{c}$ where x is found in $B^{c}$ (The complement of B) is satisfied. Additionally, a second condition is satisfied when we take note that x can be found in A, it satisfies the intersection."
   ]
  },
  {
   "cell_type": "markdown",
   "id": "6fd60051",
   "metadata": {},
   "source": [
    "Direction 2: A $\\cap$ $B^{c}$ $\\subseteq$ A\\\\B\n",
    "\n",
    "Now let us say that y is an arbitrary element found in A $\\cap$ $B^{c}$. By definition, y can be found in both A and $B^{c}$. This means that y is in A and not in B. Since A\\\\B means A without elements present in B, this means that y can be found in A\\\\B."
   ]
  },
  {
   "cell_type": "markdown",
   "id": "45b5c94a",
   "metadata": {},
   "source": [
    "In conclusion, since we proved that A\\\\B $\\subseteq$ A $\\cap$ $B^{c}$ and A $\\cap$ $B^{c}$ $\\subseteq$ A\\\\B, we can say that A\\\\B = A $\\cap$ $B^{c}$."
   ]
  },
  {
   "cell_type": "markdown",
   "id": "2507a204",
   "metadata": {},
   "source": [
    "##### $\\bullet$ B = (B $\\cap$ A) $\\cup$ (B $\\cap$ $A^{c}$)"
   ]
  },
  {
   "cell_type": "markdown",
   "id": "11436f2d",
   "metadata": {},
   "source": [
    "Direction 1:B $\\subseteq$ (B $\\cap$ A) $\\cup$ (B $\\cap$ $A^{c}$)\n",
    "\n",
    "Let us say that x is an arbitrary element in B. First case (B $\\cap$ A) would mean that what's left of B are those elements that are in common with A. For the second case, (B $\\cap$ $A^{c}$), this means that what's left of B are those elements that are NOT in common with A. Since (B $\\cap$ A) and (B $\\cap$ $A^{c}$) do not intersect, we can say that (B $\\cap$ A) $\\cup$ (B $\\cap$ $A^{c}$) is equal to (B $\\cap$ A) + (B $\\cap$ $A^{c}$) - 0(since there is no intersection). Since x has got to be in either case, this proves that B $\\subseteq$ (B $\\cap$ A) $\\cup$ (B $\\cap$ $A^{c}$)."
   ]
  },
  {
   "cell_type": "markdown",
   "id": "37d8eebb",
   "metadata": {},
   "source": [
    "Direction 2: (B $\\cap$ A) $\\cup$ (B $\\cap$ $A^{c}$) $\\subseteq$ B\n",
    "\n",
    "Let us say that y is an arbitrary element in (B $\\cap$ A) $\\cup$ (B $\\cap$ $A^{c}$). This means that y belongs in either (B $\\cap$ A), (B $\\cap$ $A^{c}$), or both. If y is found in B $\\cap$ A, then y is in both A and B. If y is found in B $\\cap$ $A^{c}$, then y is in both B but not in A. In both cases, we can see that y belongs to B which proves that (B $\\cap$ A) $\\cup$ (B $\\cap$ $A^{c}$) $\\subseteq$ B."
   ]
  },
  {
   "cell_type": "markdown",
   "id": "e31eeefd",
   "metadata": {},
   "source": [
    "In conclusion, since we proved that B $\\subseteq$ (B $\\cap$ A) $\\cup$ (B $\\cap$ $A^{c}$) and (B $\\cap$ A) $\\cup$ (B $\\cap$ $A^{c}$) $\\subseteq$ B, we can say that B = (B $\\cap$ A) $\\cup$ (B $\\cap$ $A^{c}$)."
   ]
  },
  {
   "cell_type": "markdown",
   "id": "5fab9ef8",
   "metadata": {},
   "source": [
    "##### $\\bullet$ B\\\\A = B $\\cap$ $A^{c}$"
   ]
  },
  {
   "cell_type": "markdown",
   "id": "3ab59696",
   "metadata": {},
   "source": [
    "Direction 1: B\\\\A $\\subseteq$ B $\\cap$ $A^{c}$\n",
    "\n",
    "Let us say that x is an arbitrary element found in B\\\\A. With this, we can say that x is not an element that can be found in A because B\\\\A = B-A. Because of this, the first condition for B $\\cap$ $A^{c}$ where x is found in $A^{c}$ (The complement of A) is satisfied. Additionally, a second condition is satisfied when we take note that x can be found in B, it satisfies the intersection. This proves that B\\\\A $\\subseteq$ B $\\cap$ $A^{c}$."
   ]
  },
  {
   "cell_type": "markdown",
   "id": "1a1b1d4c",
   "metadata": {},
   "source": [
    "Direction 2: B $\\cap$ $A^{c}$ $\\subseteq$ B\\\\A\n",
    "\n",
    "Now let us say that y is an arbitrary element found in B $\\cap$ $A^{c}$. By definition, y can be found in both B and $A^{c}$. This means that y is in B and not in A. Since B\\\\A means B without elements present in A, this means that y can be found in B\\\\A, making B $\\cap$ $A^{c}$ $\\subseteq$ B\\\\A."
   ]
  },
  {
   "cell_type": "markdown",
   "id": "a3bf6487",
   "metadata": {},
   "source": [
    "In conclusion, since we proved that B\\\\A $\\subseteq$ B $\\cap$ $A^{c}$ and B $\\cap$ $A^{c}$ $\\subseteq$ B\\\\A, we can say that B\\\\A = B $\\cap$ $A^{c}$."
   ]
  },
  {
   "cell_type": "markdown",
   "id": "80cdefc5",
   "metadata": {},
   "source": [
    "##### $\\bullet$ A $\\cup$ B = A $\\cup$ (B $\\cap$ $A^{c}$)"
   ]
  },
  {
   "cell_type": "markdown",
   "id": "cccff66b",
   "metadata": {},
   "source": [
    "Direction 1: A $\\cup$ B $\\subseteq$ A $\\cup$ (B $\\cap$ $A^{c}$)\n",
    "\n",
    "Let us say that x is an arbitrary element in A $\\cup$ B, This means that x is an element of either set A, B, or both. If x was an element of A, then x belongs to A $\\cup$ (B $\\cap$ $A^{c}$) since union includes all elements. If x was an element of B, then x belongs to B $\\cap$ $A^{c}$, and thus x belongs to A $\\cup$ (B $\\cap$ $A^{c}$). In either case, we prove that A $\\cup$ B $\\subseteq$ A $\\cup$ (B $\\cap$ $A^{c}$)."
   ]
  },
  {
   "cell_type": "markdown",
   "id": "47d0a30f",
   "metadata": {},
   "source": [
    "Direction 2: A $\\cup$ (B $\\cap$ $A^{c}$) $\\subseteq$ A $\\cup$ B\n",
    "\n",
    "Let us say that y is an arbitrary element in A $\\cup$ (B $\\cap$ $A^{c}$), this means that y can either be found in A, or (B $\\cap$ $A^{c}$), or both. If we find y at A, then we can immediately prove that A $\\cup$ B is true. If we find y at (B $\\cap$ $A^{c}$), then we can see that y belongs to B. Either way, they prove that A $\\cup$ (B $\\cap$ $A^{c}$) $\\subseteq$ A $\\cup$ B."
   ]
  },
  {
   "cell_type": "markdown",
   "id": "f38fd8f3",
   "metadata": {},
   "source": [
    "In conclusion, since we proved that A $\\cup$ B $\\subseteq$ A $\\cup$ (B $\\cap$ $A^{c}$) and A $\\cup$ (B $\\cap$ $A^{c}$) $\\subseteq$ A $\\cup$ B are true, then we can say that A $\\cup$ B = A $\\cup$ (B $\\cap$ $A^{c}$) is true as well."
   ]
  },
  {
   "cell_type": "markdown",
   "id": "a30aa854",
   "metadata": {},
   "source": [
    "##### $\\bullet$ $(\\textbf{U}_{i=1}^{\\infty} A_{i}^{c})^{c}$ = $\\cap_{i=1}^{\\infty}A_{i}$"
   ]
  },
  {
   "cell_type": "markdown",
   "id": "130f0dfc",
   "metadata": {},
   "source": [
    "Direction 1: $(\\textbf{U}_{i=1}^{\\infty} A_{i}^{c})^{c}$ $\\subseteq$ $\\cap_{i=1}^{\\infty}A_{i}$\n",
    "\n",
    "Let x be an arbitrary element in $(\\textbf{U}_{i=1}^{\\infty} A_{i}^{c})^{c}$. This means that x does not belong to $\\textbf{U}_{i=1}^{\\infty} A_{i}^{c}$. This implies that x cannot be found in every $A_{i}^{c}$, which means x can be found in the opposite ($A_{i}$). Therefore, x belongs to $\\cap_{i=1}^{\\infty}A_{i}$, proving that $(\\textbf{U}_{i=1}^{\\infty} A_{i}^{c})^{c}$ $\\subseteq$ $\\cap_{i=1}^{\\infty}A_{i}$ is true."
   ]
  },
  {
   "cell_type": "markdown",
   "id": "7d752905",
   "metadata": {},
   "source": [
    "Direction 2: $\\cap_{i=1}^{\\infty}A_{i}$ $\\subseteq$ $(\\textbf{U}_{i=1}^{\\infty} A_{i}^{c})^{c}$\n",
    "\n",
    "Let y be an arbitrary element in $\\cap_{i=1}^{\\infty}A_{i}$. This means that y belongs to every $A_{i}$, which in turn means that it cannot be found in any $A_{i}^{c}$. Thus, when looking for the complement of $(\\textbf{U}_{i=1}^{\\infty} A_{i}^{c})$, we can see that y is in fact an element. This proves that $\\cap_{i=1}^{\\infty}A_{i}$ $\\subseteq$ $(\\textbf{U}_{i=1}^{\\infty} A_{i}^{c})^{c}$."
   ]
  },
  {
   "cell_type": "markdown",
   "id": "fa33a41f",
   "metadata": {},
   "source": [
    "In conclusion, since we proved that $(\\textbf{U}_{i=1}^{\\infty} A_{i}^{c})^{c}$ $\\subseteq$ $\\cap_{i=1}^{\\infty}A_{i}$ and $\\cap_{i=1}^{\\infty}A_{i}$ $\\subseteq$ $(\\textbf{U}_{i=1}^{\\infty} A_{i}^{c})^{c}$, then we can say that $(\\textbf{U}_{i=1}^{\\infty} A_{i}^{c})^{c}$ = $\\cap_{i=1}^{\\infty}A_{i}$ is correct."
   ]
  },
  {
   "cell_type": "markdown",
   "id": "bc0dd672",
   "metadata": {},
   "source": [
    "##### $\\bullet$ |A $\\cup$ B| = |A| + |B| - |A $\\cap$ B|"
   ]
  },
  {
   "cell_type": "markdown",
   "id": "93f40807",
   "metadata": {},
   "source": [
    "We can prove that |A $\\cup$ B| = |A| + |B| - |A $\\cap$ B| is true through the Principle of Inclusion-Exclusion. When we first count |A| + |B|, we are basically counting their own distinct elements, regardless if they are in common with the other set. When counting the different elements, common elements between the two sets will be counted twice. To avoid this, we subtract the intersection of sets A and B (|A $\\cap$ B|) to make sure we count them once only. Once done, what we are left with is our |A $\\cup$ B| , a combination of both sets A and B.\n",
    "\n",
    "In conclusion, we can say that |A $\\cup$ B| = |A| + |B| - |A $\\cap$ B| through the Inclusion-Exclusion principle."
   ]
  },
  {
   "cell_type": "markdown",
   "id": "afdb8ea3",
   "metadata": {},
   "source": [
    "\n",
    "\n",
    "\n",
    "\n",
    "\n",
    "\n",
    "### 2. Sets and Subsets"
   ]
  },
  {
   "cell_type": "markdown",
   "id": "d7fc45cf",
   "metadata": {},
   "source": [
    "$\\bullet$ If A = {2,3,4,5}, and B = {$x \\in \\mathbb{N} | x \\ is \\ even$}. Is A $\\subset$ B? Show a proof.\n",
    "\n",
    "   -The statement \"A $\\subset$ B\" is wrong because in order for A to be a proper subset of B, all of A's elements need to be present in B, and elements {3,5} are not present in set B ({2,4,6,8,...}).\n",
    "\n"
   ]
  },
  {
   "cell_type": "markdown",
   "id": "fc8051b8",
   "metadata": {},
   "source": [
    "$\\bullet$ Let sets A = {x|x $\\in \\mathbb{Z}, 0 \\leq x \\leq 9\\}, \\textbf{B} = \\{ 2,4,6,8\\},\\textbf{C}  = \\{ 1,3,5,7,9\\}\\ and \\ \\textbf{D}  = \\{ 3,4,5\\}$. Find a set $\\textbf{X}$ which will satisfy the following conditions:\n",
    "\n",
    "1. $\\textbf{X} \\ and \\ \\textbf{B}$ are disjoint.\n",
    "\n",
    "   -$\\textbf{X}$ = {0,1,3,5,7,9}. C is also a set that is disjoint with B because elements present in C are not present in B, and vice versa.\n",
    "\n",
    "\n",
    "\n"
   ]
  },
  {
   "cell_type": "markdown",
   "id": "1d32a2cd",
   "metadata": {},
   "source": [
    "2. $\\textbf{X} \\subseteq \\textbf{D}$ but $\\textbf{X} \\nsubseteq \\textbf{B}$.\n",
    "\n",
    "   -$\\textbf{X}$ = {3,4,5}. D is also a set that is a subset of itself because in order for one to be considered a subset, all elements present must be the same as its superset, with lesser than or the same cardinality. Additionally it is not a subset of B because even though they both share the element \"4\", the rest of the elements in set D are not present in set B."
   ]
  },
  {
   "cell_type": "markdown",
   "id": "84339a50",
   "metadata": {},
   "source": [
    "3. $\\textbf{X} \\subseteq \\textbf{A}$ but $\\textbf{X} \\not\\subset \\textbf{C}$  \n",
    "\n",
    "   -$\\textbf{X}$ = {0,1,2,3,4,5,6,7,8,9}. Sets A, B, and D are also sets that satisfy this condition because all their elements can be found in their superset \"A\". While their present elements are not qualified to be considered a subset of C. (A has more elements, B has no common elements, and D has the element \"4\" which is not present in C)."
   ]
  },
  {
   "cell_type": "markdown",
   "id": "46f0a801",
   "metadata": {},
   "source": [
    "ALL 3 CONDITIONS:\n",
    "\n",
    "-$\\textbf{X}$ = $\\emptyset$. This is because there are no combination of elements that can satisfy all three conditions at the same time. "
   ]
  },
  {
   "cell_type": "markdown",
   "id": "74fb4f97",
   "metadata": {},
   "source": [
    "### 3. Set Operations"
   ]
  },
  {
   "cell_type": "markdown",
   "id": "11b6013e",
   "metadata": {},
   "source": [
    "1. First solve the problems manually, use Latex programming to show your manual solutions.\n",
    "\n",
    "2. Second, solve the problem using python. Show your codes for the pythonic solutions.\n",
    "\n",
    "Hint: You know your solutions is right if your manual solution is equivalent to your pythonic solution.\n",
    "\n",
    "Given:\n",
    "\n",
    "$\\textbf{U} = \\{1,2,3,4,5\\}$\n",
    "\n",
    "$\\textbf{A} = \\{1,2,3,4,5\\}$\n",
    "\n",
    "$\\textbf{B} = \\{4,5,6,7\\}$\n",
    "\n",
    "$\\textbf{C} = \\{5,6,7,8,9\\}$\n",
    "\n",
    "$\\textbf{D} = \\{1,3,5,7,9\\}$\n",
    "\n",
    "$\\textbf{E} = \\{2,4,6,8\\}$\n",
    "\n",
    "$\\textbf{F} = \\{1,5,9\\}$"
   ]
  },
  {
   "cell_type": "markdown",
   "id": "76419bef",
   "metadata": {},
   "source": [
    "$\\bullet$ $\\textbf{C} \\oplus \\textbf{D}$\n",
    "\n",
    "$\\bullet$ $\\textbf{A} \\backslash \\textbf{B}$\n",
    "\n",
    "$\\bullet$ $\\textbf{B} \\backslash \\textbf{A}$\n",
    "\n",
    "$\\bullet$ $\\textbf{E} \\oplus \\textbf{F}$"
   ]
  },
  {
   "cell_type": "markdown",
   "id": "5ae615f5",
   "metadata": {},
   "source": [
    "##### Manual Solutions:\n",
    "\n",
    "$\\bullet$ $\\textbf{C} \\oplus \\textbf{D}$\n",
    "\n",
    "SOL: \n",
    "\n",
    "-$\\textbf{C} \\oplus \\textbf{D}$ = (C \\\\ D) $\\cup$ (D \\\\ C)\n",
    "\n",
    "-$\\textbf{C} \\oplus \\textbf{D}$ = {6,8} $\\cup$ {1,3}\n",
    "\n",
    "<b>-$\\textbf{C} \\oplus \\textbf{D}$ = {1,3,6,8}</b>\n",
    "\n"
   ]
  },
  {
   "cell_type": "markdown",
   "id": "f7475dc1",
   "metadata": {},
   "source": [
    "$\\bullet$ $\\textbf{A} \\backslash \\textbf{B}$\n",
    "\n",
    "SOL:\n",
    "\n",
    "-$\\textbf{A} \\backslash \\textbf{B}$ = A-B\n",
    "\n",
    "-$\\textbf{A} \\backslash \\textbf{B}$ = {1,2,3,4,5} - {4,5,6,7}\n",
    "\n",
    "<b>-$\\textbf{A} \\backslash \\textbf{B}$ = {1,2,3}</b>\n"
   ]
  },
  {
   "cell_type": "markdown",
   "id": "4d2dfa2e",
   "metadata": {},
   "source": [
    "$\\bullet$ $\\textbf{B} \\backslash \\textbf{A}$\n",
    "\n",
    "-$\\textbf{B} \\backslash \\textbf{A}$ = B-A\n",
    "\n",
    "-$\\textbf{B} \\backslash \\textbf{A}$ = {4,5,6,7} - {1,2,3,4,5} \n",
    "\n",
    "<b>-$\\textbf{B} \\backslash \\textbf{A}$ = {6,7}</b>"
   ]
  },
  {
   "cell_type": "markdown",
   "id": "938470d2",
   "metadata": {},
   "source": [
    "$\\bullet$ $\\textbf{E} \\oplus \\textbf{F}$\n",
    "\n",
    "SOL:\n",
    "\n",
    "-$\\textbf{E} \\oplus \\textbf{F}$ = (E \\\\ F) $\\cup$ (F \\\\ E)\n",
    "\n",
    "-$\\textbf{E} \\oplus \\textbf{F}$ = {2,4,6,8} $\\cup$ {1,5,9}\n",
    "\n",
    "<b> -$\\textbf{E} \\oplus \\textbf{F}$ = {1,2,4,5,6,8,9} </b>\n",
    "\n"
   ]
  },
  {
   "cell_type": "markdown",
   "id": "abd3c79c",
   "metadata": {},
   "source": [
    "##### Pythonic Solutions:\n",
    "\n",
    "$\\bullet$ $\\textbf{C} \\oplus \\textbf{D}$"
   ]
  },
  {
   "cell_type": "code",
   "execution_count": 11,
   "id": "ea727cf8",
   "metadata": {},
   "outputs": [
    {
     "name": "stdout",
     "output_type": "stream",
     "text": [
      "𝐂⊕𝐃 = {8, 1, 3, 6}\n"
     ]
    }
   ],
   "source": [
    "C = {5,6,7,8,9}\n",
    "D = {1,3,5,7,9}\n",
    "\n",
    "setDifference1 = C-D\n",
    "setDifference2 = D-C\n",
    "symmetricDifference = setDifference1.union(setDifference2)\n",
    "\n",
    "print(\"𝐂⊕𝐃 = \" + str(symmetricDifference))"
   ]
  },
  {
   "cell_type": "markdown",
   "id": "85fba6a8",
   "metadata": {},
   "source": [
    "$\\bullet$ $\\textbf{A} \\backslash \\textbf{B}$"
   ]
  },
  {
   "cell_type": "code",
   "execution_count": 12,
   "id": "ca227417",
   "metadata": {},
   "outputs": [
    {
     "name": "stdout",
     "output_type": "stream",
     "text": [
      "𝐀∖𝐁 = {1, 2, 3}\n"
     ]
    }
   ],
   "source": [
    "A = {1,2,3,4,5}\n",
    "B = {4,5,6,7}\n",
    "setDifference = A-B\n",
    "\n",
    "print(\"𝐀∖𝐁 = \" + str(setDifference))"
   ]
  },
  {
   "cell_type": "markdown",
   "id": "fe794a42",
   "metadata": {},
   "source": [
    "$\\bullet$ $\\textbf{B} \\backslash \\textbf{A}$"
   ]
  },
  {
   "cell_type": "code",
   "execution_count": 13,
   "id": "f3c351ad",
   "metadata": {},
   "outputs": [
    {
     "name": "stdout",
     "output_type": "stream",
     "text": [
      "𝐁∖𝐀 = {6, 7}\n"
     ]
    }
   ],
   "source": [
    "A = {1,2,3,4,5}\n",
    "B = {4,5,6,7}\n",
    "setDifference = B-A\n",
    "\n",
    "print(\"𝐁∖𝐀 = \" + str(setDifference))"
   ]
  },
  {
   "cell_type": "markdown",
   "id": "d8d42169",
   "metadata": {},
   "source": [
    "$\\bullet$ $\\textbf{E} \\oplus \\textbf{F}$"
   ]
  },
  {
   "cell_type": "code",
   "execution_count": 14,
   "id": "2452d85b",
   "metadata": {},
   "outputs": [
    {
     "name": "stdout",
     "output_type": "stream",
     "text": [
      "𝐄⊕𝐅 = {1, 2, 4, 5, 6, 8, 9}\n"
     ]
    }
   ],
   "source": [
    "E = {2,4,6,8}\n",
    "F = {1,5,9}\n",
    "\n",
    "setDifference1 = E-F\n",
    "setDifference2 = F-E\n",
    "symmetricDifference = setDifference1.union(setDifference2)\n",
    "\n",
    "print(\"𝐄⊕𝐅 = \" + str(symmetricDifference))"
   ]
  },
  {
   "cell_type": "markdown",
   "id": "28c86d2f",
   "metadata": {},
   "source": [
    "### 4. Finite Sets and The Counting Principles"
   ]
  },
  {
   "cell_type": "code",
   "execution_count": 36,
   "id": "44fe8be0",
   "metadata": {},
   "outputs": [
    {
     "name": "stdout",
     "output_type": "stream",
     "text": [
      "1. \n"
     ]
    },
    {
     "data": {
      "image/png": "[encoded data removed]",
      "text/plain": [
       "<Figure size 640x480 with 1 Axes>"
      ]
     },
     "metadata": {},
     "output_type": "display_data"
    },
    {
     "name": "stdout",
     "output_type": "stream",
     "text": [
      "2. The number of people who read at \"at least one\" of the three magazines is: 100\n",
      "3. The number of people who read exactly one magazine is: 56\n"
     ]
    }
   ],
   "source": [
    "from matplotlib_venn import venn3 \n",
    "from matplotlib import pyplot as plt\n",
    "\n",
    "print(\"1. \")\n",
    "venn3(subsets = (28, 18, 12, 10, 17, 7, 8), set_labels = ('Newsweek', 'Times', 'Fortune'))\n",
    "plt.show()\n",
    "\n",
    "print(\"2. The number of people who read at \\\"at least one\\\" of the three magazines is:\", (28+18+10+17+7+12+8))\n",
    "print(\"3. The number of people who read exactly one magazine is:\", (28+18+10))\n"
   ]
  },
  {
   "cell_type": "markdown",
   "id": "856a5cb5",
   "metadata": {},
   "source": [
    "### 5."
   ]
  },
  {
   "cell_type": "code",
   "execution_count": 40,
   "id": "0298fb09",
   "metadata": {},
   "outputs": [
    {
     "name": "stdout",
     "output_type": "stream",
     "text": [
      "1. \n"
     ]
    },
    {
     "data": {
      "image/png": "[encoded data removed]",
      "text/plain": [
       "<Figure size 640x480 with 1 Axes>"
      ]
     },
     "metadata": {},
     "output_type": "display_data"
    },
    {
     "name": "stdout",
     "output_type": "stream",
     "text": [
      "2. The number of cars with W only is: 5\n",
      "3. The number of cars with A only is: 4\n",
      "4. The number of cars with R only is: 2\n",
      "5. The number of cars with both R and W, but not A is: 1\n",
      "6. The number of cars with both A and R, but not W is: 6\n",
      "7. The number of cars with only one of the options is: 11\n",
      "8. The number of cars with at least one option is: 23\n",
      "9. The number of cars with none of the option is: 2\n"
     ]
    }
   ],
   "source": [
    "from matplotlib_venn import venn3 \n",
    "from matplotlib import pyplot as plt\n",
    "\n",
    "print(\"1. \")\n",
    "venn3(subsets = (4, 2, 6, 5, 2, 1, 3), set_labels = ('A', 'R', 'W'))\n",
    "plt.show()\n",
    "\n",
    "print(\"2. The number of cars with W only is:\", (11-2-1-3))\n",
    "print(\"3. The number of cars with A only is:\", (15-6-2-3))\n",
    "print(\"4. The number of cars with R only is:\", (12-6-1-3))\n",
    "print(\"5. The number of cars with both R and W, but not A is:\", (4-3))\n",
    "print(\"6. The number of cars with both A and R, but not W is:\", (9-3))\n",
    "print(\"7. The number of cars with only one of the options is:\", (5+2+4))\n",
    "print(\"8. The number of cars with at least one option is:\", (4+2+5+6+1+2+3))\n",
    "print(\"9. The number of cars with none of the option is:\", (25-23))"
   ]
  },
  {
   "cell_type": "markdown",
   "id": "4bd6ab18",
   "metadata": {},
   "source": [
    "### Assignment under \"Complement\"\n",
    "\n",
    "As an assignment, show that $U^{c} = \\emptyset$"
   ]
  },
  {
   "cell_type": "markdown",
   "id": "b5a1d778",
   "metadata": {},
   "source": [
    "We can prove that $U^{c} = \\emptyset$ by remembering that U is a universal set which means it is a set that contains all possible elements. Since its definition is that it contains ALL possible elements, there would be no more elements left for its complement. In other words, the complement of U is merely an empty set. Hence, The statement \"$U^{c} = \\emptyset$\" is in fact true."
   ]
  }
 ],
 "metadata": {
  "kernelspec": {
   "display_name": "Python 3 (ipykernel)",
   "language": "python",
   "name": "python3"
  },
  "language_info": {
   "codemirror_mode": {
    "name": "ipython",
    "version": 3
   },
   "file_extension": ".py",
   "mimetype": "text/x-python",
   "name": "python",
   "nbconvert_exporter": "python",
   "pygments_lexer": "ipython3",
   "version": "3.11.4"
  }
 },
 "nbformat": 4,
 "nbformat_minor": 5
}
