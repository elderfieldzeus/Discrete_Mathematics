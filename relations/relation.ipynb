{
 "cells": [
  {
   "cell_type": "markdown",
   "id": "615f9427",
   "metadata": {},
   "source": [
    "# ASSIGNMENT FOR RELATION \n",
    "#### ZEUS D. ELDERFIELD"
   ]
  },
  {
   "cell_type": "markdown",
   "id": "07df8bb4",
   "metadata": {},
   "source": [
    "## Transitive Relation "
   ]
  },
  {
   "cell_type": "markdown",
   "id": "8a089fdb",
   "metadata": {},
   "source": [
    "Create a python function that will determine if a set is transitive or not."
   ]
  },
  {
   "cell_type": "code",
   "execution_count": 44,
   "id": "9e1a515a",
   "metadata": {
    "scrolled": true
   },
   "outputs": [
    {
     "name": "stdout",
     "output_type": "stream",
     "text": [
      "Examples: \n",
      "\n",
      "[(1, 1), (1, 2), (2, 3), (1, 3), (4, 4)]\n",
      "  transitive:  True\n",
      "[(1, 1), (1, 2), (2, 1), (2, 2), (3, 3), (4, 4)]\n",
      "  transitive:  True\n",
      "[(1, 3), (2, 1)]\n",
      "  transitive:  False\n",
      "[()]\n",
      "  transitive:  False\n",
      "[(1, 1), (1, 2), (1, 3), (1, 4), (2, 1), (2, 2), (2, 3), (2, 4), (3, 1), (3, 2), (3, 3), (3, 4), (4, 1), (4, 2), (4, 3), (4, 4)]\n",
      "  transitive:  True\n"
     ]
    }
   ],
   "source": [
    "def transitive(R, A):\n",
    "    for a in A:\n",
    "        for b in A:\n",
    "            if a!=b:\n",
    "                if (a,b) in R:\n",
    "                    for c in A:\n",
    "                        if b!=c:\n",
    "                            if (b,c) in R:\n",
    "                                if (a,c) in R:\n",
    "                                    return True\n",
    "    return False\n",
    "\n",
    "\n",
    "A = set([1, 2, 3, 4])\n",
    "R1 = [(1, 1), (1, 2), (2, 3), (1, 3), (4, 4)]\n",
    "R2 = [(1, 1), (1, 2), (2, 1),(2,2),(3,3),(4,4)]\n",
    "R3 = [(1,3),(2,1)]\n",
    "R4 = [()]\n",
    "R5 =[(x0, y0) for x0 in A for y0 in A]\n",
    "\n",
    "print(\"Examples: \\n\")\n",
    "for R in [R1, R2, R3, R4, R5]:\n",
    "    print(R)\n",
    "    print(\"  transitive: \", transitive(R, A))"
   ]
  },
  {
   "cell_type": "markdown",
   "id": "1220e972",
   "metadata": {},
   "source": [
    "## Assignment 1:"
   ]
  },
  {
   "cell_type": "markdown",
   "id": "e221b86b",
   "metadata": {},
   "source": [
    "Given $A = \\{1,2,3,4\\}$ and $B=\\{x,y,z\\}$. Let $R$ be a relation from $A \\to B$:"
   ]
  },
  {
   "cell_type": "markdown",
   "id": "7cf0be65",
   "metadata": {},
   "source": [
    "$R$ = {{1,y},{1,z},{3,y},{4,x},{4,z}}"
   ]
  },
  {
   "cell_type": "markdown",
   "id": "ce60d0d3",
   "metadata": {},
   "source": [
    "1. Find all $aRb$.\n",
    "2. Find $R^{-1}$.\n",
    "3. Determine the domain and range of $R$.\n",
    "4. Check if $R$ is a reflexive relation.\n",
    "5. Check if $R$ is a symmetric relation."
   ]
  },
  {
   "cell_type": "markdown",
   "id": "6b707166",
   "metadata": {},
   "source": [
    "### 1. Find all $aRb$."
   ]
  },
  {
   "cell_type": "markdown",
   "id": "dcd398ac",
   "metadata": {},
   "source": [
    "---> $aRb$ = ($1Ry$, $1Rz$, $3Ry$, $4Rx$, $4Rz$)"
   ]
  },
  {
   "cell_type": "markdown",
   "id": "83d9fa7c",
   "metadata": {},
   "source": [
    "### 2. Find $R^{-1}$."
   ]
  },
  {
   "cell_type": "markdown",
   "id": "16d98f3c",
   "metadata": {},
   "source": [
    "--->$R^{-1}$ = {{b,a}...}\n",
    "\n",
    "---> $R^{-1}$ = {{y,1},{z,1},{y,3},{x,4},{z,4}}"
   ]
  },
  {
   "cell_type": "markdown",
   "id": "ad5cd1db",
   "metadata": {},
   "source": [
    "### 3. Determine the domain and range of $R$."
   ]
  },
  {
   "cell_type": "markdown",
   "id": "0781deaa",
   "metadata": {},
   "source": [
    "---> Domain = {1,3,4}\n",
    "\n",
    "---> Range = {x,y,z}"
   ]
  },
  {
   "cell_type": "markdown",
   "id": "71fc7ef9",
   "metadata": {},
   "source": [
    "### 4. Check if $R$ is a reflexive relation."
   ]
  },
  {
   "cell_type": "markdown",
   "id": "3ae6db8d",
   "metadata": {},
   "source": [
    "##### Manual Solution:\n",
    "\n",
    "Reflexive means that for every element 'a' in set A, there exists a pair (a,a) in R. From what we can see in the given, there are no ordered pairs that form {a,a} since R is a combination of elements from A and elements from B. Therefore, R is not reflexive.\n",
    "\n",
    "##### Pythonic Solution:\n"
   ]
  },
  {
   "cell_type": "code",
   "execution_count": 45,
   "id": "8e3820f8",
   "metadata": {},
   "outputs": [
    {
     "name": "stdout",
     "output_type": "stream",
     "text": [
      "[(1, 'y'), (1, 'z'), (3, 'y'), (4, 'x'), (4, 'z')]\n",
      "     reflexive:  False\n",
      "\n",
      "Therefore, R is NOT reflexive\n"
     ]
    }
   ],
   "source": [
    "def reflexive(R):\n",
    "    for a in A:\n",
    "        if (a,a) not in R:\n",
    "            return False\n",
    "        return True\n",
    "\n",
    "A = set([1,2,3,4])\n",
    "B = set(['x','y','z'])\n",
    "R = [(1,'y'),(1,'z'),(3,'y'),(4,'x'),(4,'z')]\n",
    "\n",
    "print(R)\n",
    "print(\"     reflexive: \", reflexive(R))\n",
    "\n",
    "if reflexive(R) == True:\n",
    "    print(\"\\nTherefore, R is reflexive\")\n",
    "    \n",
    "else:\n",
    "    print(\"\\nTherefore, R is NOT reflexive\")"
   ]
  },
  {
   "cell_type": "markdown",
   "id": "768ec8ef",
   "metadata": {},
   "source": [
    "### 5. Check if $R$ is a symmetric relation."
   ]
  },
  {
   "cell_type": "markdown",
   "id": "578cb30b",
   "metadata": {},
   "source": [
    "##### Manual Solution:\n",
    "\n",
    "Symmetric means that for every pair (a,b) in R, there exists a pair (b,a) in R. When we look at the given, there are no pairs that satisfies this definition. \n",
    "\n",
    "(1, y) is in R, but there is no (y, 1).\n",
    "(1, z) is in R, but there is no (z, 1).\n",
    "(3, y) is in R, but there is no (y, 3).\n",
    "(4, x) is in R, but there is no (x, 4).\n",
    "(4, z) is in R, but there is no (z, 4).\n",
    "\n",
    "Therefore, R is not symmetric.\n",
    "\n",
    "##### Pythonic solution:\n"
   ]
  },
  {
   "cell_type": "code",
   "execution_count": 46,
   "id": "b446c22b",
   "metadata": {},
   "outputs": [
    {
     "name": "stdout",
     "output_type": "stream",
     "text": [
      "[(1, 'y'), (1, 'z'), (3, 'y'), (4, 'x'), (4, 'z')]\n",
      "   symmetric:  False\n",
      "\n",
      "Therefore, R is NOT symmetric\n"
     ]
    }
   ],
   "source": [
    "def symmetric(R):\n",
    "    for a, b in R:\n",
    "        if (b, a) not in R:\n",
    "            return False\n",
    "    return True\n",
    "\n",
    "A = set([1,2,3,4])\n",
    "B = set(['x','y','z'])\n",
    "R = [(1,'y'),(1,'z'),(3,'y'),(4,'x'),(4,'z')]\n",
    "\n",
    "print(R)\n",
    "print(\"   symmetric: \", symmetric(R))\n",
    "\n",
    "if symmetric(R) == True:\n",
    "    print(\"\\nTherefore, R is symmetric\")\n",
    "    \n",
    "else:\n",
    "    print(\"\\nTherefore, R is NOT symmetric\")"
   ]
  },
  {
   "cell_type": "markdown",
   "id": "2fc0f671",
   "metadata": {},
   "source": [
    "## Assignment 2"
   ]
  },
  {
   "cell_type": "markdown",
   "id": "ad8c62c8",
   "metadata": {},
   "source": [
    "Given $A = \\{1,2,3,4\\}$,$B=\\{a,b,c\\}$, and $C=\\{x,y,z\\}$. Let $R$ be a relation from $A \\to B$:\n",
    "\n",
    "$R$ = {1,b},{2,a},{2,c}"
   ]
  },
  {
   "cell_type": "markdown",
   "id": "4846762d",
   "metadata": {},
   "source": [
    "Also Let $S$ be a relation from $B \\to C$:\n",
    "\n",
    "$S$ = {a,y},{b,x},{c,y},{c,z}"
   ]
  },
  {
   "cell_type": "markdown",
   "id": "bb9bdf63",
   "metadata": {},
   "source": [
    "1. Find the composition relation $\\textbf{R}\\circ\\textbf{S}$.\n",
    "2. Find $R^{-1}$.\n",
    "3. Find $S^{-1}$.\n",
    "4. Determine the domain and range of $R$.\n",
    "5. Check if $R$ is a reflexive relation.\n",
    "6. Check if $R$ is a symmetric relation.\n",
    "7. Determine the domain and range of $S$.\n",
    "8. Check if $S$ is a reflexive relation.\n",
    "9. Check if $S$ is a symmetric relation."
   ]
  },
  {
   "cell_type": "markdown",
   "id": "eba42808",
   "metadata": {},
   "source": [
    "### 1. Find the composition relation $\\textbf{R}\\circ\\textbf{S}$."
   ]
  },
  {
   "cell_type": "markdown",
   "id": "02f8d0f5",
   "metadata": {},
   "source": [
    "$\\textbf{R}\\circ \\textbf{S} =  \\{ (a,c)| there \\ exist \\ b \\in B \\ for. \\ which \\ (a,b) \\in R \\ and. \\ (b,c) \\in S$}\n",
    "\n",
    "\n",
    "\n",
    "$\\\\{1,b\\\\}\\in \\textbf{R} : \\\\{b,x\\\\} \\in \\textbf{S}\\$\n",
    "\n",
    "$\\\\{2,a\\\\}\\in \\textbf{R} : \\\\{a,y\\\\} \\in \\textbf{S}\\$\n",
    "\n",
    "$\\\\{2,c\\\\}\\in \\textbf{R} : \\\\{c,y\\\\} \\in \\textbf{S}\\$\n",
    "\n",
    "$\\\\{2,c\\\\}\\in \\textbf{R} : \\\\{c,z\\\\} \\in \\textbf{S}\\$\n",
    "   \n",
    "   \n",
    "   \n",
    " \n",
    " $\\textbf{R}\\circ\\textbf{S}$ = {{1,x},{2,y},{2,z}}"
   ]
  },
  {
   "cell_type": "markdown",
   "id": "38538daa",
   "metadata": {},
   "source": [
    "### 2. Find $R^{-1}$.\n",
    "\n",
    "--->$R^{-1}$ = {{b,a}...}\n",
    "\n",
    "--->$R^{-1}$ = {b,1},{a,2},{c,2}"
   ]
  },
  {
   "cell_type": "markdown",
   "id": "73d7e677",
   "metadata": {},
   "source": [
    "### 3. Find $S^{-1}$.\n",
    "\n",
    "--->$S^{-1}$ = {{b,a}...}\n",
    "\n",
    "--->$S^{-1}$ = {y,a},{x,b},{y,c},{z,c}"
   ]
  },
  {
   "cell_type": "markdown",
   "id": "97286a7a",
   "metadata": {},
   "source": [
    "### 4. Determine the domain and range of $R$.\n",
    "\n",
    "---> Domain = {a,b,c}\n",
    "\n",
    "---> Range = {1,2}"
   ]
  },
  {
   "cell_type": "markdown",
   "id": "d7d59a4f",
   "metadata": {},
   "source": [
    "### 5. Check if $R$ is a reflexive relation.\n",
    "\n",
    "##### Manual Solution: \n",
    "\n",
    "To be \"Reflexive\", once again, means for every element a in set A, there is a pair (a,a) in R. Since there are no elements that satisfy this condition (because R is a mixture of sets A and B). Therefore, R is not reflexive. \n",
    "\n",
    "##### Pythonic Solution:"
   ]
  },
  {
   "cell_type": "code",
   "execution_count": 47,
   "id": "96fcdcae",
   "metadata": {},
   "outputs": [
    {
     "name": "stdout",
     "output_type": "stream",
     "text": [
      "[(1, 'b'), (2, 'a'), (2, 'c')]\n",
      "     reflexive:  False\n",
      "\n",
      "Therefore, R is NOT reflexive\n"
     ]
    }
   ],
   "source": [
    "def reflexive(R,A):\n",
    "    for a in A:\n",
    "        if (a,a) not in R:\n",
    "            return False\n",
    "        return True\n",
    "\n",
    "A = (1,2,3,4)\n",
    "B = ('a','b','c')\n",
    "C = ('x','y','z')\n",
    "R = [(1,'b'),(2,'a'),(2,'c')]\n",
    "S = [('c','y'),('b','x'),('c','y'),('c','z')]\n",
    "\n",
    "print(R)\n",
    "print(\"     reflexive: \", reflexive(R,A))\n",
    "\n",
    "if reflexive(R,A) == True:\n",
    "    print(\"\\nTherefore, R is reflexive\")\n",
    "    \n",
    "else:\n",
    "    print(\"\\nTherefore, R is NOT reflexive\")"
   ]
  },
  {
   "cell_type": "markdown",
   "id": "a6dd5c22",
   "metadata": {},
   "source": [
    "### 6. Check if $R$ is a symmetric relation.\n",
    "\n",
    "##### Manual Solutions:\n",
    "\n",
    "For R to be reflexive, for every pair (a,b), must exist a pair (b,a) in R as well. When we look at the given, there are no pairs that satisfies this definition. \n",
    "\n",
    "(1, b) is in R, but there is no (b, 1).\n",
    "(2, a) is in R, but there is no (a, 2).\n",
    "(2, c) is in R, but there is no (c, 2).\n",
    "\n",
    "Therefore, R is not symmetric. \n",
    "\n",
    "##### Pythonic Solutions:"
   ]
  },
  {
   "cell_type": "code",
   "execution_count": 48,
   "id": "d10b114e",
   "metadata": {},
   "outputs": [
    {
     "name": "stdout",
     "output_type": "stream",
     "text": [
      "[(1, 'b'), (2, 'a'), (2, 'c')]\n",
      "   symmetric:  False\n",
      "\n",
      "Therefore, R is NOT symmetric\n"
     ]
    }
   ],
   "source": [
    "def symmetric(R,A):\n",
    "    for a, b in R:\n",
    "        if (b, a) not in R:\n",
    "            return False\n",
    "    return True\n",
    "\n",
    "A = (1,2,3,4)\n",
    "B = ('a','b','c')\n",
    "C = ('x','y','z')\n",
    "R = [(1,'b'),(2,'a'),(2,'c')]\n",
    "S = [('c','y'),('b','x'),('c','y'),('c','z')]\n",
    "\n",
    "print(R)\n",
    "print(\"   symmetric: \", symmetric(R,A))\n",
    "\n",
    "if symmetric(R,A) == True:\n",
    "    print(\"\\nTherefore, R is symmetric\")\n",
    "    \n",
    "else:\n",
    "    print(\"\\nTherefore, R is NOT symmetric\")"
   ]
  },
  {
   "cell_type": "markdown",
   "id": "e2749cf8",
   "metadata": {},
   "source": [
    "### 7. Determine the domain and range of $S$.\n",
    "\n",
    "---> Domain = {a,b,c}\n",
    "\n",
    "---> Range = {x,y,z}"
   ]
  },
  {
   "cell_type": "markdown",
   "id": "3057f347",
   "metadata": {},
   "source": [
    "### 8. Check if $S$ is a reflexive relation.\n",
    "\n",
    "##### Manual Solution:\n",
    "To be \"Reflexive\", once again, means for every element a in set A, there is a pair (a,a) in S. Since there are no elements that satisfy this condition (because S is a mixture of sets B and C). Therefore, S is not reflexive. \n",
    "\n",
    "##### Pythonic Solution"
   ]
  },
  {
   "cell_type": "code",
   "execution_count": 49,
   "id": "55e8b708",
   "metadata": {},
   "outputs": [
    {
     "name": "stdout",
     "output_type": "stream",
     "text": [
      "[('c', 'y'), ('b', 'x'), ('c', 'y'), ('c', 'z')]\n",
      "     reflexive:  False\n",
      "\n",
      "Therefore, S is NOT reflexive\n"
     ]
    }
   ],
   "source": [
    "def reflexive(S,B):\n",
    "    for b in B:\n",
    "        if (b,b) not in S:\n",
    "            return False\n",
    "        return True\n",
    "\n",
    "A = (1,2,3,4)\n",
    "B = ('a','b','c')\n",
    "C = ('x','y','z')\n",
    "R = [(1,'b'),(2,'a'),(2,'c')]\n",
    "S = [('c','y'),('b','x'),('c','y'),('c','z')]\n",
    "\n",
    "print(S)\n",
    "print(\"     reflexive: \", reflexive(S,B))\n",
    "\n",
    "if reflexive(S,B) == True:\n",
    "    print(\"\\nTherefore, S is reflexive\")\n",
    "    \n",
    "else:\n",
    "    print(\"\\nTherefore, S is NOT reflexive\")"
   ]
  },
  {
   "cell_type": "markdown",
   "id": "8720bdfa",
   "metadata": {},
   "source": [
    "### 9. Check if $S$ is a symmetric relation.\n",
    "##### Manual Solution:\n",
    "\n",
    "For S to be reflexive, for every pair (b,c), must exist a pair (c,b) in S as well. When we look at the given, there are no pairs that satisfies this definition. \n",
    "\n",
    "(c, y) is in S, but there is no (y, c).\n",
    "(b, x) is in S, but there is no (x, b).\n",
    "(c, y) is in S, but there is no (y, c).\n",
    "(c, z) is in S, but there is no (z, c).\n",
    "\n",
    "Therefore, S is not symmetric. \n",
    "\n",
    "##### Pythonic Solution:"
   ]
  },
  {
   "cell_type": "code",
   "execution_count": 50,
   "id": "605be2d5",
   "metadata": {},
   "outputs": [
    {
     "name": "stdout",
     "output_type": "stream",
     "text": [
      "[('c', 'y'), ('b', 'x'), ('c', 'y'), ('c', 'z')]\n",
      "   symmetric:  False\n",
      "\n",
      "Therefore, S is NOT symmetric\n"
     ]
    }
   ],
   "source": [
    "def symmetric(S):\n",
    "    for a, b in R:\n",
    "        if (b, a) not in R:\n",
    "            return False\n",
    "    return True\n",
    "\n",
    "A = (1,2,3,4)\n",
    "B = ('a','b','c')\n",
    "C = ('x','y','z')\n",
    "R = [(1,'b'),(2,'a'),(2,'c')]\n",
    "S = [('c','y'),('b','x'),('c','y'),('c','z')]\n",
    "\n",
    "print(S)\n",
    "print(\"   symmetric: \", symmetric(S))\n",
    "\n",
    "if symmetric(S) == True:\n",
    "    print(\"\\nTherefore, S is symmetric\")\n",
    "    \n",
    "else:\n",
    "    print(\"\\nTherefore, S is NOT symmetric\")"
   ]
  },
  {
   "cell_type": "markdown",
   "id": "80645a8d",
   "metadata": {},
   "source": [
    "## Assignment 3\n"
   ]
  },
  {
   "cell_type": "markdown",
   "id": "af2e84ee",
   "metadata": {},
   "source": [
    "Given $A = \\{1,2,3,4\\}$. Let $R$ be a relation from $A \\to B$:\n",
    "\n",
    "\n",
    "$R$ = $\\{1,1\\},\\{2,2\\},\\{2,3\\},\\{3,2\\},\\{4,2\\},\\{4,4\\}$"
   ]
  },
  {
   "cell_type": "markdown",
   "id": "8c25c2ba",
   "metadata": {},
   "source": [
    "1. Find the composition relation $\\textbf{R}\\circ\\textbf{R}$.\n",
    "2. Draw the directed graph of $R^{-1}$.\n",
    "3. Draw the directed graph of $R$."
   ]
  },
  {
   "cell_type": "markdown",
   "id": "c9b9d087",
   "metadata": {},
   "source": [
    "### 1. Find the composition relation $\\textbf{R}\\circ\\textbf{R}$.\n",
    "\n",
    "$\\textbf{R}\\circ \\textbf{S} =  \\{ (a,c)| there \\ exist \\ b \\in B \\ for. \\ which \\ (a,b) \\in R \\ and. \\ (b,c) \\in S$}\n",
    "\n",
    "\n",
    "$\\\\{1,1\\\\}\\in \\textbf{R} : \\\\{1,1\\\\} \\in \\textbf{S}\\$\n",
    "\n",
    "$\\\\{2,2\\\\}\\in \\textbf{R} : \\\\{2,2\\\\} \\in \\textbf{S}\\$\n",
    "\n",
    "$\\\\{2,2\\\\}\\in \\textbf{R} : \\\\{2,3\\\\} \\in \\textbf{S}\\$\n",
    "\n",
    "$\\\\{2,3\\\\}\\in \\textbf{R} : \\\\{3,2\\\\} \\in \\textbf{S}\\$\n",
    "\n",
    "$\\\\{3,2\\\\}\\in \\textbf{R} : \\\\{2,2\\\\} \\in \\textbf{S}\\$\n",
    "\n",
    "$\\\\{3,2\\\\}\\in \\textbf{R} : \\\\{2,3\\\\} \\in \\textbf{S}\\$\n",
    "\n",
    "$\\\\{4,2\\\\}\\in \\textbf{R} : \\\\{2,2\\\\} \\in \\textbf{S}\\$\n",
    "\n",
    "$\\\\{4,2\\\\}\\in \\textbf{R} : \\\\{2,3\\\\} \\in \\textbf{S}\\$\n",
    "\n",
    "$\\\\{4,4\\\\}\\in \\textbf{R} : \\\\{4,4\\\\} \\in \\textbf{S}\\$\n",
    "\n",
    " ##### $\\textbf{R}\\circ\\textbf{R}$ = {{1,1},{2,2},{2,3},{3,2},{3,3},{4,2},{4,3},{4,4}}\n",
    "\n"
   ]
  },
  {
   "cell_type": "markdown",
   "id": "795307da",
   "metadata": {},
   "source": [
    "### 2. Draw the directed graph of $R^{-1}$."
   ]
  },
  {
   "cell_type": "code",
   "execution_count": 51,
   "id": "3a6e0f82",
   "metadata": {},
   "outputs": [
    {
     "data": {
      "image/svg+xml": [
       "<?xml version=\"1.0\" encoding=\"UTF-8\" standalone=\"no\"?>\n",
       "<!DOCTYPE svg PUBLIC \"-//W3C//DTD SVG 1.1//EN\"\n",
       " \"http://www.w3.org/Graphics/SVG/1.1/DTD/svg11.dtd\">\n",
       "<!-- Generated by graphviz version 8.1.0 (20230707.0739)\n",
       " -->\n",
       "<!-- Pages: 1 -->\n",
       "<svg width=\"242pt\" height=\"116pt\"\n",
       " viewBox=\"0.00 0.00 242.00 116.00\" xmlns=\"http://www.w3.org/2000/svg\" xmlns:xlink=\"http://www.w3.org/1999/xlink\">\n",
       "<g id=\"graph0\" class=\"graph\" transform=\"scale(1 1) rotate(0) translate(4 112)\">\n",
       "<polygon fill=\"white\" stroke=\"none\" points=\"-4,4 -4,-112 238,-112 238,4 -4,4\"/>\n",
       "<!-- 1 -->\n",
       "<g id=\"node1\" class=\"node\">\n",
       "<title>1</title>\n",
       "<ellipse fill=\"none\" stroke=\"black\" cx=\"27\" cy=\"-90\" rx=\"27\" ry=\"18\"/>\n",
       "<text text-anchor=\"middle\" x=\"27\" y=\"-84.58\" font-family=\"Times New Roman,serif\" font-size=\"14.00\">1</text>\n",
       "</g>\n",
       "<!-- 1&#45;&gt;1 -->\n",
       "<g id=\"edge1\" class=\"edge\">\n",
       "<title>1&#45;&gt;1</title>\n",
       "<path fill=\"none\" stroke=\"black\" d=\"M46.9,-102.43C59.69,-105.68 72,-101.53 72,-90 72,-81.89 65.91,-77.44 57.85,-76.63\"/>\n",
       "<polygon fill=\"black\" stroke=\"black\" points=\"57.56,-73.23 47.9,-77.57 58.16,-80.2 57.56,-73.23\"/>\n",
       "</g>\n",
       "<!-- 2 -->\n",
       "<g id=\"node2\" class=\"node\">\n",
       "<title>2</title>\n",
       "<ellipse fill=\"none\" stroke=\"black\" cx=\"117\" cy=\"-90\" rx=\"27\" ry=\"18\"/>\n",
       "<text text-anchor=\"middle\" x=\"117\" y=\"-84.58\" font-family=\"Times New Roman,serif\" font-size=\"14.00\">2</text>\n",
       "</g>\n",
       "<!-- 2&#45;&gt;2 -->\n",
       "<g id=\"edge2\" class=\"edge\">\n",
       "<title>2&#45;&gt;2</title>\n",
       "<path fill=\"none\" stroke=\"black\" d=\"M136.9,-102.43C149.69,-105.68 162,-101.53 162,-90 162,-81.89 155.91,-77.44 147.85,-76.63\"/>\n",
       "<polygon fill=\"black\" stroke=\"black\" points=\"147.56,-73.23 137.9,-77.57 148.16,-80.2 147.56,-73.23\"/>\n",
       "</g>\n",
       "<!-- 3 -->\n",
       "<g id=\"node3\" class=\"node\">\n",
       "<title>3</title>\n",
       "<ellipse fill=\"none\" stroke=\"black\" cx=\"117\" cy=\"-18\" rx=\"27\" ry=\"18\"/>\n",
       "<text text-anchor=\"middle\" x=\"117\" y=\"-12.57\" font-family=\"Times New Roman,serif\" font-size=\"14.00\">3</text>\n",
       "</g>\n",
       "<!-- 2&#45;&gt;3 -->\n",
       "<g id=\"edge3\" class=\"edge\">\n",
       "<title>2&#45;&gt;3</title>\n",
       "<path fill=\"none\" stroke=\"black\" d=\"M111.12,-72.05C110.31,-64.4 110.06,-55.16 110.39,-46.56\"/>\n",
       "<polygon fill=\"black\" stroke=\"black\" points=\"113.93,-47.01 111.14,-36.79 106.95,-46.52 113.93,-47.01\"/>\n",
       "</g>\n",
       "<!-- 4 -->\n",
       "<g id=\"node4\" class=\"node\">\n",
       "<title>4</title>\n",
       "<ellipse fill=\"none\" stroke=\"black\" cx=\"189\" cy=\"-18\" rx=\"27\" ry=\"18\"/>\n",
       "<text text-anchor=\"middle\" x=\"189\" y=\"-12.57\" font-family=\"Times New Roman,serif\" font-size=\"14.00\">4</text>\n",
       "</g>\n",
       "<!-- 2&#45;&gt;4 -->\n",
       "<g id=\"edge4\" class=\"edge\">\n",
       "<title>2&#45;&gt;4</title>\n",
       "<path fill=\"none\" stroke=\"black\" d=\"M131.92,-74.5C141.86,-64.83 155.12,-51.94 166.35,-41.02\"/>\n",
       "<polygon fill=\"black\" stroke=\"black\" points=\"168.37,-43.97 173.1,-34.49 163.49,-38.95 168.37,-43.97\"/>\n",
       "</g>\n",
       "<!-- 3&#45;&gt;2 -->\n",
       "<g id=\"edge5\" class=\"edge\">\n",
       "<title>3&#45;&gt;2</title>\n",
       "<path fill=\"none\" stroke=\"black\" d=\"M122.86,-35.79C123.68,-43.42 123.93,-52.65 123.62,-61.27\"/>\n",
       "<polygon fill=\"black\" stroke=\"black\" points=\"120.07,-60.84 122.88,-71.05 127.06,-61.32 120.07,-60.84\"/>\n",
       "</g>\n",
       "<!-- 4&#45;&gt;4 -->\n",
       "<g id=\"edge6\" class=\"edge\">\n",
       "<title>4&#45;&gt;4</title>\n",
       "<path fill=\"none\" stroke=\"black\" d=\"M208.9,-30.43C221.69,-33.68 234,-29.53 234,-18 234,-9.89 227.91,-5.44 219.85,-4.63\"/>\n",
       "<polygon fill=\"black\" stroke=\"black\" points=\"219.56,-1.23 209.9,-5.57 220.16,-8.2 219.56,-1.23\"/>\n",
       "</g>\n",
       "</g>\n",
       "</svg>\n"
      ],
      "text/plain": [
       "<graphviz.sources.Source at 0x2a24f217390>"
      ]
     },
     "execution_count": 51,
     "metadata": {},
     "output_type": "execute_result"
    }
   ],
   "source": [
    "import networkx as nx\n",
    "G = nx.MultiDiGraph()\n",
    "\n",
    "G.add_edge('1','1')\n",
    "G.add_edge('2','2')\n",
    "G.add_edge('3','2')\n",
    "G.add_edge('2','3')\n",
    "G.add_edge('2','4')\n",
    "G.add_edge('4','4')\n",
    "from networkx.drawing import nx_pydot\n",
    "from graphviz import Source\n",
    "\n",
    "nx_pydot.write_dot(G, 'multig.dot')\n",
    "Source.from_file('multig.dot')"
   ]
  },
  {
   "cell_type": "markdown",
   "id": "49451bd1",
   "metadata": {},
   "source": [
    "### 3. Draw the directed graph of $R$."
   ]
  },
  {
   "cell_type": "code",
   "execution_count": 52,
   "id": "6ed4f805",
   "metadata": {},
   "outputs": [
    {
     "data": {
      "image/svg+xml": [
       "<?xml version=\"1.0\" encoding=\"UTF-8\" standalone=\"no\"?>\n",
       "<!DOCTYPE svg PUBLIC \"-//W3C//DTD SVG 1.1//EN\"\n",
       " \"http://www.w3.org/Graphics/SVG/1.1/DTD/svg11.dtd\">\n",
       "<!-- Generated by graphviz version 8.1.0 (20230707.0739)\n",
       " -->\n",
       "<!-- Pages: 1 -->\n",
       "<svg width=\"170pt\" height=\"188pt\"\n",
       " viewBox=\"0.00 0.00 170.00 188.00\" xmlns=\"http://www.w3.org/2000/svg\" xmlns:xlink=\"http://www.w3.org/1999/xlink\">\n",
       "<g id=\"graph0\" class=\"graph\" transform=\"scale(1 1) rotate(0) translate(4 184)\">\n",
       "<polygon fill=\"white\" stroke=\"none\" points=\"-4,4 -4,-184 166,-184 166,4 -4,4\"/>\n",
       "<!-- 1 -->\n",
       "<g id=\"node1\" class=\"node\">\n",
       "<title>1</title>\n",
       "<ellipse fill=\"none\" stroke=\"black\" cx=\"27\" cy=\"-162\" rx=\"27\" ry=\"18\"/>\n",
       "<text text-anchor=\"middle\" x=\"27\" y=\"-156.57\" font-family=\"Times New Roman,serif\" font-size=\"14.00\">1</text>\n",
       "</g>\n",
       "<!-- 1&#45;&gt;1 -->\n",
       "<g id=\"edge1\" class=\"edge\">\n",
       "<title>1&#45;&gt;1</title>\n",
       "<path fill=\"none\" stroke=\"black\" d=\"M46.9,-174.43C59.69,-177.68 72,-173.53 72,-162 72,-153.89 65.91,-149.44 57.85,-148.63\"/>\n",
       "<polygon fill=\"black\" stroke=\"black\" points=\"57.56,-145.23 47.9,-149.57 58.16,-152.2 57.56,-145.23\"/>\n",
       "</g>\n",
       "<!-- 2 -->\n",
       "<g id=\"node2\" class=\"node\">\n",
       "<title>2</title>\n",
       "<ellipse fill=\"none\" stroke=\"black\" cx=\"117\" cy=\"-90\" rx=\"27\" ry=\"18\"/>\n",
       "<text text-anchor=\"middle\" x=\"117\" y=\"-84.58\" font-family=\"Times New Roman,serif\" font-size=\"14.00\">2</text>\n",
       "</g>\n",
       "<!-- 2&#45;&gt;2 -->\n",
       "<g id=\"edge2\" class=\"edge\">\n",
       "<title>2&#45;&gt;2</title>\n",
       "<path fill=\"none\" stroke=\"black\" d=\"M136.9,-102.43C149.69,-105.68 162,-101.53 162,-90 162,-81.89 155.91,-77.44 147.85,-76.63\"/>\n",
       "<polygon fill=\"black\" stroke=\"black\" points=\"147.56,-73.23 137.9,-77.57 148.16,-80.2 147.56,-73.23\"/>\n",
       "</g>\n",
       "<!-- 3 -->\n",
       "<g id=\"node3\" class=\"node\">\n",
       "<title>3</title>\n",
       "<ellipse fill=\"none\" stroke=\"black\" cx=\"117\" cy=\"-18\" rx=\"27\" ry=\"18\"/>\n",
       "<text text-anchor=\"middle\" x=\"117\" y=\"-12.57\" font-family=\"Times New Roman,serif\" font-size=\"14.00\">3</text>\n",
       "</g>\n",
       "<!-- 2&#45;&gt;3 -->\n",
       "<g id=\"edge3\" class=\"edge\">\n",
       "<title>2&#45;&gt;3</title>\n",
       "<path fill=\"none\" stroke=\"black\" d=\"M111.12,-72.05C110.31,-64.4 110.06,-55.16 110.39,-46.56\"/>\n",
       "<polygon fill=\"black\" stroke=\"black\" points=\"113.93,-47.01 111.14,-36.79 106.95,-46.52 113.93,-47.01\"/>\n",
       "</g>\n",
       "<!-- 3&#45;&gt;2 -->\n",
       "<g id=\"edge4\" class=\"edge\">\n",
       "<title>3&#45;&gt;2</title>\n",
       "<path fill=\"none\" stroke=\"black\" d=\"M122.86,-35.79C123.68,-43.42 123.93,-52.65 123.62,-61.27\"/>\n",
       "<polygon fill=\"black\" stroke=\"black\" points=\"120.07,-60.84 122.88,-71.05 127.06,-61.32 120.07,-60.84\"/>\n",
       "</g>\n",
       "<!-- 4 -->\n",
       "<g id=\"node4\" class=\"node\">\n",
       "<title>4</title>\n",
       "<ellipse fill=\"none\" stroke=\"black\" cx=\"117\" cy=\"-162\" rx=\"27\" ry=\"18\"/>\n",
       "<text text-anchor=\"middle\" x=\"117\" y=\"-156.57\" font-family=\"Times New Roman,serif\" font-size=\"14.00\">4</text>\n",
       "</g>\n",
       "<!-- 4&#45;&gt;2 -->\n",
       "<g id=\"edge5\" class=\"edge\">\n",
       "<title>4&#45;&gt;2</title>\n",
       "<path fill=\"none\" stroke=\"black\" d=\"M117,-143.7C117,-136.24 117,-127.32 117,-118.97\"/>\n",
       "<polygon fill=\"black\" stroke=\"black\" points=\"120.5,-119.1 117,-109.1 113.5,-119.1 120.5,-119.1\"/>\n",
       "</g>\n",
       "<!-- 4&#45;&gt;4 -->\n",
       "<g id=\"edge6\" class=\"edge\">\n",
       "<title>4&#45;&gt;4</title>\n",
       "<path fill=\"none\" stroke=\"black\" d=\"M136.9,-174.43C149.69,-177.68 162,-173.53 162,-162 162,-153.89 155.91,-149.44 147.85,-148.63\"/>\n",
       "<polygon fill=\"black\" stroke=\"black\" points=\"147.56,-145.23 137.9,-149.57 148.16,-152.2 147.56,-145.23\"/>\n",
       "</g>\n",
       "</g>\n",
       "</svg>\n"
      ],
      "text/plain": [
       "<graphviz.sources.Source at 0x2a24e641390>"
      ]
     },
     "execution_count": 52,
     "metadata": {},
     "output_type": "execute_result"
    }
   ],
   "source": [
    "import networkx as nx\n",
    "G = nx.MultiDiGraph()\n",
    "\n",
    "G.add_edge('1','1')\n",
    "G.add_edge('2','2')\n",
    "G.add_edge('2','3')\n",
    "G.add_edge('3','2')\n",
    "G.add_edge('4','2')\n",
    "G.add_edge('4','4')\n",
    "from networkx.drawing import nx_pydot\n",
    "from graphviz import Source\n",
    "\n",
    "nx_pydot.write_dot(G, 'multig.dot')\n",
    "Source.from_file('multig.dot')"
   ]
  },
  {
   "cell_type": "markdown",
   "id": "42f958b0",
   "metadata": {},
   "source": [
    "## Assignment 4"
   ]
  },
  {
   "cell_type": "markdown",
   "id": "9d227f40",
   "metadata": {},
   "source": [
    "Let $R$ and $S$ be relations on $A = \\{1,2,3\\}$"
   ]
  },
  {
   "cell_type": "markdown",
   "id": "6f5fee17",
   "metadata": {},
   "source": [
    "Let $R = \\{1,1\\},\\{1,2\\},\\{2,3\\},\\{3,1\\},\\{3,3\\}$"
   ]
  },
  {
   "cell_type": "markdown",
   "id": "2e761728",
   "metadata": {},
   "source": [
    "Let $S$ = $\\{1,2\\},\\{1,3\\},\\{2,1\\},\\{3,3\\}$"
   ]
  },
  {
   "cell_type": "markdown",
   "id": "09db3b1f",
   "metadata": {},
   "source": [
    "Find:\n",
    "1. $R \\cup S$.\n",
    "2. $R \\cap S$.\n",
    "3. $R^{c}$.\n",
    "4. $R \\circ S$.\n",
    "5. $S \\circ S$."
   ]
  },
  {
   "cell_type": "markdown",
   "id": "6827f802",
   "metadata": {},
   "source": [
    "### 1. $R \\cup S$.\n",
    "\n",
    "$R \\cup S$ is the union/combination of both sets\n",
    "\n",
    "$R \\cup S$ = $\\{\\{1,1\\},\\{1,2\\},\\{2,3\\},\\{3,1\\},\\{3,3\\}\\} \\cup \\{\\{1,2\\},\\{1,3\\},\\{2,1\\},\\{3,3\\}\\}$\n",
    "\n",
    "##### $R \\cup S$ = $\\{\\{1,1\\},\\{1,2\\},\\{1,3\\},\\{2,1\\},\\{2,3\\},\\{3,1\\},\\{3,3\\}$"
   ]
  },
  {
   "cell_type": "markdown",
   "id": "debad0a4",
   "metadata": {},
   "source": [
    "### 2. $R \\cap S$.\n",
    "\n",
    "$R \\cap S$ is the intersection/common elements between both sets\n",
    "\n",
    "##### $R \\cap S$ = $\\{\\{1,2\\},\\{3,3\\}\\}$"
   ]
  },
  {
   "cell_type": "markdown",
   "id": "1395b341",
   "metadata": {},
   "source": [
    "### 3. $R^{c}$.\n",
    "\n",
    "$A X A$ = {{1,1},{1,2},{1,3},{2,1},{2,2},{2,3},{3,1},{3,2},{3,3}}\n",
    "\n",
    "$R$ = {{1,1},{1,2},{2,3},{3,1},{3,3}}\n",
    "\n",
    "To find $R^{c}$, we must find all the pairs that are not in $R$, but are in $A X A$.\n",
    "\n",
    "Therefore,\n",
    "\n",
    "##### $R^{c}$ = {{1,3},{2,1},{2,2},{3,2}}\n"
   ]
  },
  {
   "cell_type": "markdown",
   "id": "a2a58808",
   "metadata": {},
   "source": [
    "### 4. $R \\circ S$.\n",
    "\n",
    "$R \\circ S$ =  $\\{ (a,c)| there \\ exist \\ b \\in B \\ for. \\ which \\ (a,b) \\in R \\ and. \\ (b,c) \\in S$}\n",
    "\n",
    "\n",
    "\n",
    "$\\\\{1,1\\\\}\\in \\textbf{R} : \\\\{1,2\\\\} \\in \\textbf{S}\\$\n",
    "\n",
    "$\\\\{1,1\\\\}\\in \\textbf{R} : \\\\{1,3\\\\} \\in \\textbf{S}\\$\n",
    "\n",
    "$\\\\{1,2\\\\}\\in \\textbf{R} : \\\\{2,1\\\\} \\in \\textbf{S}\\$\n",
    "\n",
    "$\\\\{2,3\\\\}\\in \\textbf{R} : \\\\{3,3\\\\} \\in \\textbf{S}\\$ \n",
    "\n",
    "$\\\\{3,1\\\\}\\in \\textbf{R} : \\\\{1,2\\\\} \\in \\textbf{S}\\$\n",
    "\n",
    "$\\\\{3,1\\\\}\\in \\textbf{R} : \\\\{1,3\\\\} \\in \\textbf{S}\\$\n",
    "\n",
    "$\\\\{3,3\\\\}\\in \\textbf{R} : \\\\{3,3\\\\} \\in \\textbf{S}\\$\n",
    "\n",
    "\n",
    "##### $R \\circ S$. = {{1,1},{1,2},{1,3},{2,3},{3,2},{3,3}}\n"
   ]
  },
  {
   "cell_type": "markdown",
   "id": "c4aac2a6",
   "metadata": {},
   "source": [
    "### 5. $S \\circ S$.\n",
    "\n",
    "$S \\circ S$ =  $\\{ (a,c)| there \\ exist \\ b \\in B \\ for. \\ which \\ (a,b) \\in B \\ and. \\ (b,c) \\in S$}\n",
    "\n",
    "{1,2},{1,3},{2,1},{3,3}\n",
    "\n",
    "$\\\\{1,2\\\\}\\in \\textbf{R} : \\\\{2,1\\\\} \\in \\textbf{S}\\$\n",
    "\n",
    "$\\\\{1,3\\\\}\\in \\textbf{R} : \\\\{3,3\\\\} \\in \\textbf{S}\\$\n",
    "\n",
    "$\\\\{2,1\\\\}\\in \\textbf{R} : \\\\{1,2\\\\} \\in \\textbf{S}\\$\n",
    "\n",
    "$\\\\{2,1\\\\}\\in \\textbf{R} : \\\\{1,3\\\\} \\in \\textbf{S}\\$ \n",
    "\n",
    "$\\\\{3,3\\\\}\\in \\textbf{R} : \\\\{3,3\\\\} \\in \\textbf{S}\\$ \n",
    "\n",
    "\n",
    "##### $S \\circ S$ = {{1,1},{1,3},{2,2},{2,3},{3,3}}"
   ]
  },
  {
   "cell_type": "markdown",
   "id": "72611deb",
   "metadata": {},
   "source": [
    "## Assignment 5"
   ]
  },
  {
   "cell_type": "markdown",
   "id": "8140ad58",
   "metadata": {},
   "source": [
    "Consider the five relations on the set $A = \\{1,2,3\\}$:"
   ]
  },
  {
   "cell_type": "markdown",
   "id": "c63776a0",
   "metadata": {},
   "source": [
    "$R$ = $\\{1,1\\},\\{1,2\\},\\{1,3\\},\\{3,3\\}$\n",
    "\n",
    "$S$ = $\\{\\{1,1\\},\\{1,2\\},\\{2,1\\},\\{2,2\\},\\{3,3\\}$\n",
    "\n",
    "$T$ = $\\{1,1\\},\\{1,2\\},\\{2,1\\},\\{2,2\\},\\{3,3\\}$\n",
    "\n",
    "Which of the relations above are:\n",
    "\n",
    "1. Reflexive.\n",
    "\n",
    "2. Symmetric or anti-symmetric.\n",
    "\n",
    "3. Transitive."
   ]
  },
  {
   "cell_type": "markdown",
   "id": "a18ff6f6",
   "metadata": {},
   "source": [
    "### 1. Reflexive.\n",
    "\n",
    "##### Manual Solution:\n",
    "\n",
    "---> R is NOT reflexive because, the only present pair that follows the condition (a,a), a being an element of set A, is (1,1) & (3,3). (2,2) cannot be found in R.\n",
    "\n",
    "---> S is reflexive because it has pairs: (1,1), (2,2), and (3,3). This means it follows the condition: \"all elements a in set A must have a pair (a,a) in set S.\"\n",
    "\n",
    "---> T is also reflexive because once again it has pairs: (1,1), (2,2), and (3,3). This means it follows the condition: \"all elements a in set A must have a pair (a,a) in set T.\"\n",
    "\n",
    "Therefore, the only relations that are reflexive are S and T.\n",
    "\n",
    "##### Pythonic solution"
   ]
  },
  {
   "cell_type": "code",
   "execution_count": 53,
   "id": "9af8747a",
   "metadata": {},
   "outputs": [
    {
     "name": "stdout",
     "output_type": "stream",
     "text": [
      "[(1, 1), (1, 2), (1, 3), (3, 3)]\n",
      "     reflexive:  False\n",
      "Therefore, this relation is NOT reflexive\n",
      "\n",
      "\n",
      "[(1, 1), (1, 2), (2, 1), (2, 2), (3, 3)]\n",
      "     reflexive:  True\n",
      "Therefore, this relation is reflexive\n",
      "\n",
      "\n",
      "[(1, 1), (1, 2), (2, 2), (3, 3)]\n",
      "     reflexive:  True\n",
      "Therefore, this relation is reflexive\n",
      "\n",
      "\n"
     ]
    }
   ],
   "source": [
    "def reflexive(r,A):\n",
    "    for a in A:\n",
    "        if (a,a) not in r:\n",
    "            return False\n",
    "    return True\n",
    "\n",
    "A = set([1,2,3])\n",
    "R = [(1,1),(1,2),(1,3),(3,3)]\n",
    "S = [(1,1),(1,2),(2,1),(2,2),(3,3)]\n",
    "T = [(1,1),(1,2),(2,2),(3,3)]\n",
    "\n",
    "for r in [R,S,T]:\n",
    "    print(r)\n",
    "    print(\"     reflexive: \", reflexive(r,A))\n",
    "    if reflexive(r,A) == True:\n",
    "        print(\"Therefore, this relation is reflexive\\n\\n\")\n",
    "    else:\n",
    "        print(\"Therefore, this relation is NOT reflexive\\n\\n\")\n",
    "    \n"
   ]
  },
  {
   "cell_type": "markdown",
   "id": "f0b6e8bd",
   "metadata": {},
   "source": [
    "### 2. Symmetric or anti-symmetric.\n",
    "##### Manual Solution: \n",
    "\n",
    "---> R is NOT symmetric because, not all (a,b) pairs, have their counterpart (b,a) in relation R. \n",
    "    \n",
    "    Examples\n",
    "        (1,1) has (1,1)\n",
    "        (3,3) has (3,3)\n",
    "        \n",
    "    BUT...\n",
    "        (1,2) does NOT have (2,1)\n",
    "        (1,3) does NOT have (3,1)\n",
    "\n",
    "---> S is symmetric because all pairs (a,b), has their counterpart (b,a) in relation S. \n",
    "    \n",
    "    Examples: \n",
    "        (1,1) has (1,1)\n",
    "        (1,2) has (2,1)\n",
    "        (2,1) has (1,2)\n",
    "        (2,2) has (2,2)\n",
    "        (3,3) has (3,3)\n",
    "\n",
    "---> T is NOT symmetric because not all (a,b) pairs, have their counterpart (b,a) in relation R.\n",
    "\n",
    "    Examples\n",
    "        (1,1) has (1,1)\n",
    "        (2,2) has (2,2)\n",
    "        (3,3) has (3,3)\n",
    "    BUT...\n",
    "        (1,2) does NOT have (2,1)\n",
    "        \n",
    "Therefore, the only relation that is reflexive is S. \n",
    "        \n",
    "##### Pythonic Solution:"
   ]
  },
  {
   "cell_type": "code",
   "execution_count": 54,
   "id": "9bde7772",
   "metadata": {},
   "outputs": [
    {
     "name": "stdout",
     "output_type": "stream",
     "text": [
      "[(1, 1), (1, 2), (1, 3), (3, 3)]\n",
      "     symmetric:  False\n",
      "Therefore, this relation is NOT symmetric\n",
      "\n",
      "\n",
      "[(1, 1), (1, 2), (2, 1), (2, 2), (3, 3)]\n",
      "     symmetric:  True\n",
      "Therefore, this relation is symmetric\n",
      "\n",
      "\n",
      "[(1, 1), (1, 2), (2, 2), (3, 3)]\n",
      "     symmetric:  False\n",
      "Therefore, this relation is NOT symmetric\n",
      "\n",
      "\n"
     ]
    }
   ],
   "source": [
    "def symmetric(r,A):\n",
    "    for a, b in r:\n",
    "        if (b, a) not in r:\n",
    "            return False\n",
    "    return True\n",
    "\n",
    "A = set([1,2,3])\n",
    "R = [(1,1),(1,2),(1,3),(3,3)]\n",
    "S = [(1,1),(1,2),(2,1),(2,2),(3,3)]\n",
    "T = [(1,1),(1,2),(2,2),(3,3)]\n",
    "\n",
    "for r in [R,S,T]:\n",
    "    print(r)\n",
    "    print(\"     symmetric: \", symmetric(r,A))\n",
    "    if symmetric(r,A) == True:\n",
    "        print(\"Therefore, this relation is symmetric\\n\\n\")\n",
    "    else:\n",
    "        print(\"Therefore, this relation is NOT symmetric\\n\\n\")"
   ]
  },
  {
   "cell_type": "markdown",
   "id": "42742da0",
   "metadata": {},
   "source": [
    "### 3. Transitive.\n",
    "\n",
    "---> R is NOT transitive because, although any pairs of elements can be (a,b), there are no other pairs that can fullfil (b,c) and (a,c) respectively. \n",
    "    \n",
    "    Example:\n",
    "        (a,b) = (1,3) \n",
    "        (b,c) = (3,3)\n",
    "      \n",
    "    BUT...\n",
    "        (a,c) cannot be (1,3) again because that would make R an improper set/relation.\n",
    "\n",
    "---> S is transitive because there is a specific pair that can be used as (a,b) that can in turn have other pairs fulfull (b,c) and (a,c). The following pairs are as follows:\n",
    "    \n",
    "    Example:   \n",
    "        (a,b) = (1,2)\n",
    "        (b,c) = (2,1)\n",
    "        (a,c) = (1,1)\n",
    "        \n",
    "    Since (1,2), (2,1), and (1,1) are all present in relation S, this makes it transitive.\n",
    "        \n",
    "    \n",
    "\n",
    "---> T is NOT transitive because, although any pairs of elements can be (a,b), there are no other pairs that can fullfil (b,c) and (a,c) respectively.\n",
    "\n",
    "    Examples\n",
    "        (a,b) = (1,2) \n",
    "        (b,c) = (2,3)\n",
    "    BUT...\n",
    "        there is no pair (1,3) to fill the role of (a,c).\n",
    "        \n",
    "Therefore, the only relation that is transitive is S.\n",
    "\n",
    "\n",
    "#### Pythonic Solution:"
   ]
  },
  {
   "cell_type": "code",
   "execution_count": 55,
   "id": "8c435ef2",
   "metadata": {},
   "outputs": [
    {
     "name": "stdout",
     "output_type": "stream",
     "text": [
      "[(1, 1), (1, 2), (1, 3), (3, 3)]\n",
      "     transitive:  False\n",
      "Therefore, this relation is NOT transitive\n",
      "\n",
      "\n",
      "[(1, 1), (1, 2), (2, 1), (2, 2), (3, 3)]\n",
      "     transitive:  True\n",
      "Therefore, this relation is transitive\n",
      "\n",
      "\n",
      "[(1, 1), (1, 2), (2, 2), (3, 3)]\n",
      "     transitive:  False\n",
      "Therefore, this relation is NOT transitive\n",
      "\n",
      "\n"
     ]
    }
   ],
   "source": [
    "def transitive(r, A):\n",
    "    for a in A:\n",
    "        for b in A:\n",
    "            if a!=b:\n",
    "                if (a,b) in r:\n",
    "                    for c in A:\n",
    "                        if b!=c:\n",
    "                            if (b,c) in r:\n",
    "                                if (a,c) in r:\n",
    "                                    return True\n",
    "    return False\n",
    "\n",
    "A = set([1,2,3])\n",
    "R = [(1,1),(1,2),(1,3),(3,3)]\n",
    "S = [(1,1),(1,2),(2,1),(2,2),(3,3)]\n",
    "T = [(1,1),(1,2),(2,2),(3,3)]\n",
    "\n",
    "for r in [R,S,T]:\n",
    "    print(r)\n",
    "    print(\"     transitive: \", transitive(r,A))\n",
    "    if transitive(r,A) == True:\n",
    "        print(\"Therefore, this relation is transitive\\n\\n\")\n",
    "    else:\n",
    "        print(\"Therefore, this relation is NOT transitive\\n\\n\")"
   ]
  }
 ],
 "metadata": {
  "kernelspec": {
   "display_name": "Python 3 (ipykernel)",
   "language": "python",
   "name": "python3"
  },
  "language_info": {
   "codemirror_mode": {
    "name": "ipython",
    "version": 3
   },
   "file_extension": ".py",
   "mimetype": "text/x-python",
   "name": "python",
   "nbconvert_exporter": "python",
   "pygments_lexer": "ipython3",
   "version": "3.11.4"
  }
 },
 "nbformat": 4,
 "nbformat_minor": 5
}
